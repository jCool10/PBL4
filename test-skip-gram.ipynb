{
 "cells": [
  {
   "cell_type": "code",
   "execution_count": 1,
   "metadata": {},
   "outputs": [],
   "source": [
    "import pandas as pd\n",
    "\n",
    "# Đọc dữ liệu\n",
    "orders = pd.read_csv('./Instacart-Market-Basket-Analysis/input/orders.csv')\n",
    "order_products_train = pd.read_csv('./Instacart-Market-Basket-Analysis/input/order_products__train.csv')\n",
    "\n",
    "# Gộp dữ liệu đơn hàng và sản phẩm\n",
    "merged = pd.merge(order_products_train, orders, on='order_id')\n",
    "merged_sorted = merged.sort_values(by=['user_id', 'order_number', 'add_to_cart_order'])\n",
    "\n",
    "# Nhóm sản phẩm theo đơn hàng\n",
    "order_groups = merged_sorted.groupby('order_id')['product_id'].apply(list)\n"
   ]
  },
  {
   "cell_type": "code",
   "execution_count": 2,
   "metadata": {},
   "outputs": [
    {
     "data": {
      "text/plain": [
       "order_id\n",
       "1          [49302, 11109, 10246, 49683, 43633, 13176, 472...\n",
       "36         [39612, 19660, 49235, 43086, 46620, 34497, 486...\n",
       "38         [11913, 18159, 4461, 21616, 23622, 32433, 2884...\n",
       "96         [20574, 30391, 40706, 25610, 27966, 24489, 39275]\n",
       "98         [8859, 19731, 43654, 13176, 4357, 37664, 34065...\n",
       "                                 ...                        \n",
       "3421049           [40800, 17706, 33424, 17299, 26800, 34243]\n",
       "3421056                    [5750, 9340, 21709, 16475, 12432]\n",
       "3421058    [15629, 4347, 34466, 6244, 6858, 30316, 35578,...\n",
       "3421063                         [49235, 13565, 14233, 35548]\n",
       "3421070                                 [35951, 16953, 4724]\n",
       "Name: product_id, Length: 131209, dtype: object"
      ]
     },
     "execution_count": 2,
     "metadata": {},
     "output_type": "execute_result"
    }
   ],
   "source": [
    "order_groups"
   ]
  },
  {
   "cell_type": "code",
   "execution_count": 3,
   "metadata": {},
   "outputs": [],
   "source": [
    "from gensim.models import Word2Vec\n",
    "\n",
    "# Cài đặt mô hình Skip-Gram\n",
    "model = Word2Vec(sentences=order_groups, vector_size=100, window=5, min_count=2, sg=1)\n",
    "\n",
    "# Lưu mô hình\n",
    "model.save(\"instacart_word2vec.model\")\n"
   ]
  },
  {
   "cell_type": "code",
   "execution_count": 16,
   "metadata": {},
   "outputs": [
    {
     "name": "stdout",
     "output_type": "stream",
     "text": [
      "[-0.17891693  0.21739925 -0.04674816 -0.07237652  0.06924821 -0.33379525\n",
      "  0.22227374  0.3049609  -0.05837497 -0.08302698 -0.07281092 -0.45013505\n",
      " -0.03089419  0.11401142  0.15031256 -0.15627512  0.11936793 -0.31553036\n",
      " -0.01659534 -0.38335755  0.18776777  0.02229545  0.2185009  -0.22853377\n",
      " -0.0583325   0.03600405 -0.28812125 -0.07422698 -0.16535805 -0.06605072\n",
      "  0.29927856  0.06529878  0.02875424 -0.06142213 -0.10008724  0.07675281\n",
      "  0.10694046 -0.20241256 -0.12805739 -0.28677478  0.1570433  -0.09950624\n",
      "  0.02391389  0.03062893  0.14267072 -0.07235717 -0.24234305 -0.07357161\n",
      "  0.09190475  0.11078228  0.17961292 -0.0628345  -0.02694442  0.08880248\n",
      " -0.04826051  0.22217496  0.14717004  0.07522067 -0.05396554  0.08339004\n",
      "  0.04592342 -0.05311996  0.06535178  0.12561873 -0.11771713  0.2467746\n",
      "  0.02405581  0.18204221 -0.23335555  0.19780424 -0.14179955  0.01766207\n",
      "  0.22647253  0.08093643  0.21743567  0.04642897  0.06166697  0.04428658\n",
      " -0.15287456  0.04671379 -0.29158732  0.0100893  -0.3309389   0.3942224\n",
      " -0.11121061  0.00269788  0.10729012  0.23159109  0.20783773  0.21039361\n",
      "  0.14238589  0.08189446 -0.09791221 -0.07050338  0.3373404   0.16718791\n",
      "  0.08747084  0.0271663  -0.00539245 -0.03421116]\n"
     ]
    }
   ],
   "source": [
    "# Tải mô hình\n",
    "model = Word2Vec.load(\"instacart_word2vec.model\")\n",
    "\n",
    "# Print value model.wv\n",
    "print(model.wv[49302])"
   ]
  },
  {
   "cell_type": "code",
   "execution_count": 5,
   "metadata": {},
   "outputs": [
    {
     "ename": "KeyError",
     "evalue": "\"Key '24852' not present in vocabulary\"",
     "output_type": "error",
     "traceback": [
      "\u001b[1;31m---------------------------------------------------------------------------\u001b[0m",
      "\u001b[1;31mKeyError\u001b[0m                                  Traceback (most recent call last)",
      "Cell \u001b[1;32mIn[5], line 2\u001b[0m\n\u001b[0;32m      1\u001b[0m \u001b[38;5;66;03m# Ví dụ: tìm sản phẩm tương tự cho sản phẩm có ID 24852 (giả sử là chuối)\u001b[39;00m\n\u001b[1;32m----> 2\u001b[0m similar_products \u001b[38;5;241m=\u001b[39m model\u001b[38;5;241m.\u001b[39mwv\u001b[38;5;241m.\u001b[39mmost_similar(\u001b[38;5;28mstr\u001b[39m(\u001b[38;5;124m'\u001b[39m\u001b[38;5;124m24852\u001b[39m\u001b[38;5;124m'\u001b[39m), topn\u001b[38;5;241m=\u001b[39m\u001b[38;5;241m10\u001b[39m)\n\u001b[0;32m      3\u001b[0m \u001b[38;5;28;01mfor\u001b[39;00m product, similarity \u001b[38;5;129;01min\u001b[39;00m similar_products:\n\u001b[0;32m      4\u001b[0m     \u001b[38;5;28mprint\u001b[39m(\u001b[38;5;124mf\u001b[39m\u001b[38;5;124m\"\u001b[39m\u001b[38;5;124mProduct ID: \u001b[39m\u001b[38;5;132;01m{\u001b[39;00mproduct\u001b[38;5;132;01m}\u001b[39;00m\u001b[38;5;124m, Similarity: \u001b[39m\u001b[38;5;132;01m{\u001b[39;00msimilarity\u001b[38;5;132;01m}\u001b[39;00m\u001b[38;5;124m\"\u001b[39m)\n",
      "File \u001b[1;32md:\\Workspace\\AI\\Anaconda\\Lib\\site-packages\\gensim\\models\\keyedvectors.py:841\u001b[0m, in \u001b[0;36mKeyedVectors.most_similar\u001b[1;34m(self, positive, negative, topn, clip_start, clip_end, restrict_vocab, indexer)\u001b[0m\n\u001b[0;32m    838\u001b[0m         weight[idx] \u001b[38;5;241m=\u001b[39m item[\u001b[38;5;241m1\u001b[39m]\n\u001b[0;32m    840\u001b[0m \u001b[38;5;66;03m# compute the weighted average of all keys\u001b[39;00m\n\u001b[1;32m--> 841\u001b[0m mean \u001b[38;5;241m=\u001b[39m \u001b[38;5;28mself\u001b[39m\u001b[38;5;241m.\u001b[39mget_mean_vector(keys, weight, pre_normalize\u001b[38;5;241m=\u001b[39m\u001b[38;5;28;01mTrue\u001b[39;00m, post_normalize\u001b[38;5;241m=\u001b[39m\u001b[38;5;28;01mTrue\u001b[39;00m, ignore_missing\u001b[38;5;241m=\u001b[39m\u001b[38;5;28;01mFalse\u001b[39;00m)\n\u001b[0;32m    842\u001b[0m all_keys \u001b[38;5;241m=\u001b[39m [\n\u001b[0;32m    843\u001b[0m     \u001b[38;5;28mself\u001b[39m\u001b[38;5;241m.\u001b[39mget_index(key) \u001b[38;5;28;01mfor\u001b[39;00m key \u001b[38;5;129;01min\u001b[39;00m keys \u001b[38;5;28;01mif\u001b[39;00m \u001b[38;5;28misinstance\u001b[39m(key, _KEY_TYPES) \u001b[38;5;129;01mand\u001b[39;00m \u001b[38;5;28mself\u001b[39m\u001b[38;5;241m.\u001b[39mhas_index_for(key)\n\u001b[0;32m    844\u001b[0m ]\n\u001b[0;32m    846\u001b[0m \u001b[38;5;28;01mif\u001b[39;00m indexer \u001b[38;5;129;01mis\u001b[39;00m \u001b[38;5;129;01mnot\u001b[39;00m \u001b[38;5;28;01mNone\u001b[39;00m \u001b[38;5;129;01mand\u001b[39;00m \u001b[38;5;28misinstance\u001b[39m(topn, \u001b[38;5;28mint\u001b[39m):\n",
      "File \u001b[1;32md:\\Workspace\\AI\\Anaconda\\Lib\\site-packages\\gensim\\models\\keyedvectors.py:518\u001b[0m, in \u001b[0;36mKeyedVectors.get_mean_vector\u001b[1;34m(self, keys, weights, pre_normalize, post_normalize, ignore_missing)\u001b[0m\n\u001b[0;32m    516\u001b[0m         total_weight \u001b[38;5;241m+\u001b[39m\u001b[38;5;241m=\u001b[39m \u001b[38;5;28mabs\u001b[39m(weights[idx])\n\u001b[0;32m    517\u001b[0m     \u001b[38;5;28;01melif\u001b[39;00m \u001b[38;5;129;01mnot\u001b[39;00m ignore_missing:\n\u001b[1;32m--> 518\u001b[0m         \u001b[38;5;28;01mraise\u001b[39;00m \u001b[38;5;167;01mKeyError\u001b[39;00m(\u001b[38;5;124mf\u001b[39m\u001b[38;5;124m\"\u001b[39m\u001b[38;5;124mKey \u001b[39m\u001b[38;5;124m'\u001b[39m\u001b[38;5;132;01m{\u001b[39;00mkey\u001b[38;5;132;01m}\u001b[39;00m\u001b[38;5;124m'\u001b[39m\u001b[38;5;124m not present in vocabulary\u001b[39m\u001b[38;5;124m\"\u001b[39m)\n\u001b[0;32m    520\u001b[0m \u001b[38;5;28;01mif\u001b[39;00m total_weight \u001b[38;5;241m>\u001b[39m \u001b[38;5;241m0\u001b[39m:\n\u001b[0;32m    521\u001b[0m     mean \u001b[38;5;241m=\u001b[39m mean \u001b[38;5;241m/\u001b[39m total_weight\n",
      "\u001b[1;31mKeyError\u001b[0m: \"Key '24852' not present in vocabulary\""
     ]
    }
   ],
   "source": [
    "# Ví dụ: tìm sản phẩm tương tự cho sản phẩm có ID 24852 (giả sử là chuối)\n",
    "similar_products = model.wv.most_similar(str(24852), topn=10)\n",
    "for product, similarity in similar_products:\n",
    "    print(f\"Product ID: {product}, Similarity: {similarity}\")\n"
   ]
  },
  {
   "cell_type": "code",
   "execution_count": null,
   "metadata": {},
   "outputs": [],
   "source": []
  }
 ],
 "metadata": {
  "kernelspec": {
   "display_name": "base",
   "language": "python",
   "name": "python3"
  },
  "language_info": {
   "codemirror_mode": {
    "name": "ipython",
    "version": 3
   },
   "file_extension": ".py",
   "mimetype": "text/x-python",
   "name": "python",
   "nbconvert_exporter": "python",
   "pygments_lexer": "ipython3",
   "version": "3.11.5"
  }
 },
 "nbformat": 4,
 "nbformat_minor": 2
}
